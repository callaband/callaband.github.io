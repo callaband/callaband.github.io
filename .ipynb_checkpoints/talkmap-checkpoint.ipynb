{
 "cells": [
  {
   "cell_type": "markdown",
   "metadata": {},
   "source": [
    "# Leaflet cluster map of talk locations\n",
    "\n",
    "Run this from the _talks/ directory, which contains .md files of all your talks. This scrapes the location YAML field from each .md file, geolocates it with geopy/Nominatim, and uses the getorg library to output data, HTML, and Javascript for a standalone cluster map."
   ]
  },
  {
   "cell_type": "code",
   "execution_count": 13,
   "metadata": {
    "collapsed": false,
    "jupyter": {
     "outputs_hidden": false
    }
   },
   "outputs": [],
   "source": [
    "import frontmatter\n",
    "import glob\n",
    "import getorg\n",
    "from geopy import Nominatim\n",
    "from geopy.exc import GeocoderTimedOut"
   ]
  },
  {
   "cell_type": "code",
   "execution_count": 18,
   "metadata": {
    "collapsed": false,
    "jupyter": {
     "outputs_hidden": false
    }
   },
   "outputs": [],
   "source": [
    "g = glob.glob(\"_talks/*.md\")"
   ]
  },
  {
   "cell_type": "code",
   "execution_count": 19,
   "metadata": {},
   "outputs": [],
   "source": [
    "# Set the default timeout, in seconds\n",
    "TIMEOUT = 5\n",
    "\n",
    "# Prepare to geolocate\n",
    "geocoder = Nominatim(user_agent=\"academicpages.github.io\")\n",
    "location_dict = {}\n",
    "location = \"\"\n",
    "permalink = \"\"\n",
    "title = \"\""
   ]
  },
  {
   "cell_type": "code",
   "execution_count": 20,
   "metadata": {},
   "outputs": [
    {
     "name": "stdout",
     "output_type": "stream",
     "text": [
      "Impact of the Gut Microbiome on Circadian Rhythms and Health<br />Talbot Virtual Veterinary Informatics Symposium; Virginia–Maryland College of Veterinary Medicine, Blacksburg, VA, USA Virginia-Maryland College of Veterinary Medicine, 205, Duck Pond Drive, Blacksburg, Montgomery County, Virginia, 24061, United States\n",
      "Dry Kibble Diet Has a Distinct Microbiome Composition Linked to Metabolic Disease in Healthy Domestic Cats<br />ASM Microbe 2025; Los Angeles, CA, USA Los Angeles, Los Angeles County, California, United States\n",
      "Talking to Your Gut Bacteria: Circadian Rhythms and Signaling Molecules<br />Medical College of Wisconsin, Microbiology and Immunology Seminar Series; Milwaukee, WI Milwaukee, Milwaukee County, Wisconsin, United States\n",
      "Diet Change Improves Physiological Parameters and Significantly Impacts the Microbiome and Metabolome of the Common Marmoset<br />ASM Microbe 2024; Atlanta, GA, USA Atlanta, Fulton County, Georgia, United States\n",
      "Multiomic Analyses Lead to Breakthroughs in Medicine<br />Talbot Virtual Veterinary Informatics Symposium; Virginia–Maryland College of Veterinary Medicine, Blacksburg, VA, USA Virginia-Maryland College of Veterinary Medicine, 205, Duck Pond Drive, Blacksburg, Montgomery County, Virginia, 24061, United States\n",
      "Dietary-Induced Changes in the Gut Microbiome and Metabolome Correlate with Improved Clinical Parameters in the Common Marmoset<br />Conference on Beneficial Microbes 2024; Madison, WI, USA Madison, Dane County, Wisconsin, United States\n",
      "Microbiome 101 for veterinarians: Fecal transplantation, microbiome analysis, and more (Part 1 and 2).<br />Fetch DVM360; San Diego, CA San Diego, San Diego County, California, United States\n",
      "Engineered Native E. coli Strain Outperforms Engineered Non-Native Strain in Conventionally-Raised Murine Gut over 10 Months<br />ASM Microbe 2023; Houston, TX Houston, Harris County, Texas, United States\n",
      "Time of Sample Collection Critical for Microbiome Replicability<br />ASM Microbe 2023; Houston, TX Houston, Harris County, Texas, United States\n"
     ]
    }
   ],
   "source": [
    "# Perform geolocation\n",
    "for file in g:\n",
    "    # Read the file\n",
    "    data = frontmatter.load(file)\n",
    "    data = data.to_dict()\n",
    "\n",
    "    # Press on if the location is not present\n",
    "    if 'location' not in data:\n",
    "        continue\n",
    "\n",
    "    # Prepare the description\n",
    "    title = data['title'].strip()\n",
    "    venue = data['venue'].strip()\n",
    "    location = data['location'].strip()\n",
    "    description = f\"{title}<br />{venue}; {location}\"\n",
    "\n",
    "    # Geocode the location and report the status\n",
    "    try:\n",
    "        location_dict[description] = geocoder.geocode(location, timeout=TIMEOUT)\n",
    "        print(description, location_dict[description])\n",
    "    except ValueError as ex:\n",
    "        print(f\"Error: geocode failed on input {location} with message {ex}\")\n",
    "    except GeocoderTimedOut as ex:\n",
    "        print(f\"Error: geocode timed out on input {location} with message {ex}\")\n",
    "    except Exception as ex:\n",
    "        print(f\"An unhandled exception occurred while processing input {location} with message {ex}\")"
   ]
  },
  {
   "cell_type": "code",
   "execution_count": 21,
   "metadata": {
    "collapsed": false,
    "jupyter": {
     "outputs_hidden": false
    }
   },
   "outputs": [
    {
     "data": {
      "text/plain": [
       "'Written map to ./talkmap/'"
      ]
     },
     "execution_count": 21,
     "metadata": {},
     "output_type": "execute_result"
    }
   ],
   "source": [
    "m = getorg.orgmap.create_map_obj()\n",
    "getorg.orgmap.output_html_cluster_map(location_dict, folder_name=\"./talkmap/\", hashed_usernames=False)"
   ]
  },
  {
   "cell_type": "code",
   "execution_count": null,
   "metadata": {
    "collapsed": true,
    "jupyter": {
     "outputs_hidden": true
    }
   },
   "outputs": [],
   "source": []
  }
 ],
 "metadata": {
  "anaconda-cloud": {},
  "kernelspec": {
   "display_name": "Website Python 3.10",
   "language": "python",
   "name": "website"
  },
  "language_info": {
   "codemirror_mode": {
    "name": "ipython",
    "version": 3
   },
   "file_extension": ".py",
   "mimetype": "text/x-python",
   "name": "python",
   "nbconvert_exporter": "python",
   "pygments_lexer": "ipython3",
   "version": "3.10.18"
  }
 },
 "nbformat": 4,
 "nbformat_minor": 4
}
